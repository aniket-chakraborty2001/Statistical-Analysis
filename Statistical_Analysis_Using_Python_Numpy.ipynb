{
  "nbformat": 4,
  "nbformat_minor": 0,
  "metadata": {
    "colab": {
      "provenance": []
    },
    "kernelspec": {
      "name": "python3",
      "display_name": "Python 3"
    },
    "language_info": {
      "name": "python"
    }
  },
  "cells": [
    {
      "cell_type": "markdown",
      "source": [
        "## Importing required packages"
      ],
      "metadata": {
        "id": "0vuRGGG0gEpJ"
      }
    },
    {
      "cell_type": "code",
      "execution_count": 1,
      "metadata": {
        "id": "TVLfXfy0fIFX"
      },
      "outputs": [],
      "source": [
        "# Here we first import the required packages for future work\n",
        "import numpy as np\n",
        "import pandas as pd\n",
        "import os\n",
        "from scipy import stats"
      ]
    },
    {
      "cell_type": "markdown",
      "source": [
        "## Reading and loading the scores.csv file in environment. To do this we first copnnect google colab to drive. Here we also do some basic works on the data to understand the data efficiently."
      ],
      "metadata": {
        "id": "bSBrkmcNgdp3"
      }
    },
    {
      "cell_type": "code",
      "source": [
        "# Connecting google colab with drive\n",
        "from google.colab import drive\n",
        "drive.mount('/content/drive')\n",
        "\n",
        "# Reading the scores.csv file using read_csv function\n",
        "df=pd.read_csv('/content/drive/MyDrive/MAHE MANIPAL DATA SCIENCE /SEM-2/READING MATERIAL/scores.csv')"
      ],
      "metadata": {
        "colab": {
          "base_uri": "https://localhost:8080/"
        },
        "id": "QAOqezavgX6a",
        "outputId": "2b4b105c-12a3-4373-da74-ec51bcff6abd"
      },
      "execution_count": 9,
      "outputs": [
        {
          "output_type": "stream",
          "name": "stdout",
          "text": [
            "Drive already mounted at /content/drive; to attempt to forcibly remount, call drive.mount(\"/content/drive\", force_remount=True).\n"
          ]
        }
      ]
    },
    {
      "cell_type": "code",
      "source": [
        "# Checking the first 10 rows/observations of the data frame\n",
        "df.head(10)"
      ],
      "metadata": {
        "colab": {
          "base_uri": "https://localhost:8080/",
          "height": 363
        },
        "id": "Dujc6qSEgwzc",
        "outputId": "a99c0548-e05d-4a4d-f6ae-745b507120e9"
      },
      "execution_count": 8,
      "outputs": [
        {
          "output_type": "execute_result",
          "data": {
            "text/plain": [
              "   gender race/ethnicity parental level of education         lunch  \\\n",
              "0  female        group B           bachelor's degree      standard   \n",
              "1  female        group C                some college      standard   \n",
              "2  female        group B             master's degree      standard   \n",
              "3    male        group A          associate's degree  free/reduced   \n",
              "4    male        group C                some college      standard   \n",
              "5  female        group B          associate's degree      standard   \n",
              "6  female        group B                some college      standard   \n",
              "7    male        group B                some college  free/reduced   \n",
              "8    male        group D                 high school  free/reduced   \n",
              "9  female        group B                 high school  free/reduced   \n",
              "\n",
              "  test preparation course  math score  reading score  writing score  \n",
              "0                    none          72             72             74  \n",
              "1               completed          69             90             88  \n",
              "2                    none          90             95             93  \n",
              "3                    none          47             57             44  \n",
              "4                    none          76             78             75  \n",
              "5                    none          71             83             78  \n",
              "6               completed          88             95             92  \n",
              "7                    none          40             43             39  \n",
              "8               completed          64             64             67  \n",
              "9                    none          38             60             50  "
            ],
            "text/html": [
              "\n",
              "  <div id=\"df-42f507d9-196c-4d4f-9fb6-33da9e192e39\">\n",
              "    <div class=\"colab-df-container\">\n",
              "      <div>\n",
              "<style scoped>\n",
              "    .dataframe tbody tr th:only-of-type {\n",
              "        vertical-align: middle;\n",
              "    }\n",
              "\n",
              "    .dataframe tbody tr th {\n",
              "        vertical-align: top;\n",
              "    }\n",
              "\n",
              "    .dataframe thead th {\n",
              "        text-align: right;\n",
              "    }\n",
              "</style>\n",
              "<table border=\"1\" class=\"dataframe\">\n",
              "  <thead>\n",
              "    <tr style=\"text-align: right;\">\n",
              "      <th></th>\n",
              "      <th>gender</th>\n",
              "      <th>race/ethnicity</th>\n",
              "      <th>parental level of education</th>\n",
              "      <th>lunch</th>\n",
              "      <th>test preparation course</th>\n",
              "      <th>math score</th>\n",
              "      <th>reading score</th>\n",
              "      <th>writing score</th>\n",
              "    </tr>\n",
              "  </thead>\n",
              "  <tbody>\n",
              "    <tr>\n",
              "      <th>0</th>\n",
              "      <td>female</td>\n",
              "      <td>group B</td>\n",
              "      <td>bachelor's degree</td>\n",
              "      <td>standard</td>\n",
              "      <td>none</td>\n",
              "      <td>72</td>\n",
              "      <td>72</td>\n",
              "      <td>74</td>\n",
              "    </tr>\n",
              "    <tr>\n",
              "      <th>1</th>\n",
              "      <td>female</td>\n",
              "      <td>group C</td>\n",
              "      <td>some college</td>\n",
              "      <td>standard</td>\n",
              "      <td>completed</td>\n",
              "      <td>69</td>\n",
              "      <td>90</td>\n",
              "      <td>88</td>\n",
              "    </tr>\n",
              "    <tr>\n",
              "      <th>2</th>\n",
              "      <td>female</td>\n",
              "      <td>group B</td>\n",
              "      <td>master's degree</td>\n",
              "      <td>standard</td>\n",
              "      <td>none</td>\n",
              "      <td>90</td>\n",
              "      <td>95</td>\n",
              "      <td>93</td>\n",
              "    </tr>\n",
              "    <tr>\n",
              "      <th>3</th>\n",
              "      <td>male</td>\n",
              "      <td>group A</td>\n",
              "      <td>associate's degree</td>\n",
              "      <td>free/reduced</td>\n",
              "      <td>none</td>\n",
              "      <td>47</td>\n",
              "      <td>57</td>\n",
              "      <td>44</td>\n",
              "    </tr>\n",
              "    <tr>\n",
              "      <th>4</th>\n",
              "      <td>male</td>\n",
              "      <td>group C</td>\n",
              "      <td>some college</td>\n",
              "      <td>standard</td>\n",
              "      <td>none</td>\n",
              "      <td>76</td>\n",
              "      <td>78</td>\n",
              "      <td>75</td>\n",
              "    </tr>\n",
              "    <tr>\n",
              "      <th>5</th>\n",
              "      <td>female</td>\n",
              "      <td>group B</td>\n",
              "      <td>associate's degree</td>\n",
              "      <td>standard</td>\n",
              "      <td>none</td>\n",
              "      <td>71</td>\n",
              "      <td>83</td>\n",
              "      <td>78</td>\n",
              "    </tr>\n",
              "    <tr>\n",
              "      <th>6</th>\n",
              "      <td>female</td>\n",
              "      <td>group B</td>\n",
              "      <td>some college</td>\n",
              "      <td>standard</td>\n",
              "      <td>completed</td>\n",
              "      <td>88</td>\n",
              "      <td>95</td>\n",
              "      <td>92</td>\n",
              "    </tr>\n",
              "    <tr>\n",
              "      <th>7</th>\n",
              "      <td>male</td>\n",
              "      <td>group B</td>\n",
              "      <td>some college</td>\n",
              "      <td>free/reduced</td>\n",
              "      <td>none</td>\n",
              "      <td>40</td>\n",
              "      <td>43</td>\n",
              "      <td>39</td>\n",
              "    </tr>\n",
              "    <tr>\n",
              "      <th>8</th>\n",
              "      <td>male</td>\n",
              "      <td>group D</td>\n",
              "      <td>high school</td>\n",
              "      <td>free/reduced</td>\n",
              "      <td>completed</td>\n",
              "      <td>64</td>\n",
              "      <td>64</td>\n",
              "      <td>67</td>\n",
              "    </tr>\n",
              "    <tr>\n",
              "      <th>9</th>\n",
              "      <td>female</td>\n",
              "      <td>group B</td>\n",
              "      <td>high school</td>\n",
              "      <td>free/reduced</td>\n",
              "      <td>none</td>\n",
              "      <td>38</td>\n",
              "      <td>60</td>\n",
              "      <td>50</td>\n",
              "    </tr>\n",
              "  </tbody>\n",
              "</table>\n",
              "</div>\n",
              "      <button class=\"colab-df-convert\" onclick=\"convertToInteractive('df-42f507d9-196c-4d4f-9fb6-33da9e192e39')\"\n",
              "              title=\"Convert this dataframe to an interactive table.\"\n",
              "              style=\"display:none;\">\n",
              "        \n",
              "  <svg xmlns=\"http://www.w3.org/2000/svg\" height=\"24px\"viewBox=\"0 0 24 24\"\n",
              "       width=\"24px\">\n",
              "    <path d=\"M0 0h24v24H0V0z\" fill=\"none\"/>\n",
              "    <path d=\"M18.56 5.44l.94 2.06.94-2.06 2.06-.94-2.06-.94-.94-2.06-.94 2.06-2.06.94zm-11 1L8.5 8.5l.94-2.06 2.06-.94-2.06-.94L8.5 2.5l-.94 2.06-2.06.94zm10 10l.94 2.06.94-2.06 2.06-.94-2.06-.94-.94-2.06-.94 2.06-2.06.94z\"/><path d=\"M17.41 7.96l-1.37-1.37c-.4-.4-.92-.59-1.43-.59-.52 0-1.04.2-1.43.59L10.3 9.45l-7.72 7.72c-.78.78-.78 2.05 0 2.83L4 21.41c.39.39.9.59 1.41.59.51 0 1.02-.2 1.41-.59l7.78-7.78 2.81-2.81c.8-.78.8-2.07 0-2.86zM5.41 20L4 18.59l7.72-7.72 1.47 1.35L5.41 20z\"/>\n",
              "  </svg>\n",
              "      </button>\n",
              "      \n",
              "  <style>\n",
              "    .colab-df-container {\n",
              "      display:flex;\n",
              "      flex-wrap:wrap;\n",
              "      gap: 12px;\n",
              "    }\n",
              "\n",
              "    .colab-df-convert {\n",
              "      background-color: #E8F0FE;\n",
              "      border: none;\n",
              "      border-radius: 50%;\n",
              "      cursor: pointer;\n",
              "      display: none;\n",
              "      fill: #1967D2;\n",
              "      height: 32px;\n",
              "      padding: 0 0 0 0;\n",
              "      width: 32px;\n",
              "    }\n",
              "\n",
              "    .colab-df-convert:hover {\n",
              "      background-color: #E2EBFA;\n",
              "      box-shadow: 0px 1px 2px rgba(60, 64, 67, 0.3), 0px 1px 3px 1px rgba(60, 64, 67, 0.15);\n",
              "      fill: #174EA6;\n",
              "    }\n",
              "\n",
              "    [theme=dark] .colab-df-convert {\n",
              "      background-color: #3B4455;\n",
              "      fill: #D2E3FC;\n",
              "    }\n",
              "\n",
              "    [theme=dark] .colab-df-convert:hover {\n",
              "      background-color: #434B5C;\n",
              "      box-shadow: 0px 1px 3px 1px rgba(0, 0, 0, 0.15);\n",
              "      filter: drop-shadow(0px 1px 2px rgba(0, 0, 0, 0.3));\n",
              "      fill: #FFFFFF;\n",
              "    }\n",
              "  </style>\n",
              "\n",
              "      <script>\n",
              "        const buttonEl =\n",
              "          document.querySelector('#df-42f507d9-196c-4d4f-9fb6-33da9e192e39 button.colab-df-convert');\n",
              "        buttonEl.style.display =\n",
              "          google.colab.kernel.accessAllowed ? 'block' : 'none';\n",
              "\n",
              "        async function convertToInteractive(key) {\n",
              "          const element = document.querySelector('#df-42f507d9-196c-4d4f-9fb6-33da9e192e39');\n",
              "          const dataTable =\n",
              "            await google.colab.kernel.invokeFunction('convertToInteractive',\n",
              "                                                     [key], {});\n",
              "          if (!dataTable) return;\n",
              "\n",
              "          const docLinkHtml = 'Like what you see? Visit the ' +\n",
              "            '<a target=\"_blank\" href=https://colab.research.google.com/notebooks/data_table.ipynb>data table notebook</a>'\n",
              "            + ' to learn more about interactive tables.';\n",
              "          element.innerHTML = '';\n",
              "          dataTable['output_type'] = 'display_data';\n",
              "          await google.colab.output.renderOutput(dataTable, element);\n",
              "          const docLink = document.createElement('div');\n",
              "          docLink.innerHTML = docLinkHtml;\n",
              "          element.appendChild(docLink);\n",
              "        }\n",
              "      </script>\n",
              "    </div>\n",
              "  </div>\n",
              "  "
            ]
          },
          "metadata": {},
          "execution_count": 8
        }
      ]
    },
    {
      "cell_type": "code",
      "source": [
        "# Checking the column or variable names\n",
        "print(df.columns)"
      ],
      "metadata": {
        "colab": {
          "base_uri": "https://localhost:8080/"
        },
        "id": "NY7DWvD0hpV9",
        "outputId": "98a18993-f93c-41a5-8c1c-1471556a00e9"
      },
      "execution_count": 7,
      "outputs": [
        {
          "output_type": "stream",
          "name": "stdout",
          "text": [
            "Index(['gender', 'race/ethnicity', 'parental level of education', 'lunch',\n",
            "       'test preparation course', 'math score', 'reading score',\n",
            "       'writing score'],\n",
            "      dtype='object')\n"
          ]
        }
      ]
    },
    {
      "cell_type": "code",
      "source": [
        "# Checking the shape of the data frame df\n",
        "df.shape # 1000 rows and 8 columns"
      ],
      "metadata": {
        "colab": {
          "base_uri": "https://localhost:8080/"
        },
        "id": "blS8ZCMdiiPP",
        "outputId": "9f7ba2f9-47c8-4c26-b958-c0e4ae7b4cc7"
      },
      "execution_count": 10,
      "outputs": [
        {
          "output_type": "execute_result",
          "data": {
            "text/plain": [
              "(1000, 8)"
            ]
          },
          "metadata": {},
          "execution_count": 10
        }
      ]
    },
    {
      "cell_type": "markdown",
      "source": [
        "## Obtaining two different numpy arrays that contains male and female students maths score. Our aim is to compare the maths score on basis on gender and create a T-test. Now observe that numpber of samples are different in this case. There are 518 samples for female's math score and  482 sample for male's math score"
      ],
      "metadata": {
        "id": "rtnQa81Sjbb-"
      }
    },
    {
      "cell_type": "code",
      "source": [
        "# Creating an array for math score of females\n",
        "fm_maths= df.loc[df['gender'] == 'female','math score'].values # .values to select only the values not the index\n",
        "\n",
        "type(fm_maths) # Checking the type of fm_math_score\n",
        "\n",
        "print(fm_maths) # Printing the array for final check\n",
        "\n",
        "n_f= fm_maths.size # Storing the sample size for female as n_f for future use\n",
        "print(n_f) # Printing number of samples in fm_math_score"
      ],
      "metadata": {
        "colab": {
          "base_uri": "https://localhost:8080/"
        },
        "id": "cnRv5rhMimRN",
        "outputId": "52c9b904-21be-442b-fd9d-ccf789bf8184"
      },
      "execution_count": 18,
      "outputs": [
        {
          "output_type": "stream",
          "name": "stdout",
          "text": [
            "[ 72  69  90  71  88  38  65  50  69  18  54  65  69  67  62  69  63  56\n",
            "  74  50  75  58  53  50  55  66  57  71  33  82   0  69  59  60  39  58\n",
            "  41  61  62  47  73  76  71  58  73  65  79  63  58  65  85  58  87  52\n",
            "  70  77  51  99  75  78  51  55  79  88  87  51  75  59  76  59  42  22\n",
            "  68  59  70  66  61  75  81  96  58  68  67  79  63  43  81  46  71  52\n",
            "  97  46  50  65  77  66  62  69  45  78  67  65  57  74  58  42  83  34\n",
            "  56  55  52  45  72  88  67  64  80  56  58  65  71  60  62  64  70  65\n",
            "  64  44  99  63  69  88  71  47  65  85  59  65  73  70  37  67  65  67\n",
            "  74  53  49  73  68  59  77  56  67  75  71  43  41  82  41  83  61  24\n",
            "  35  61  69  72  77  52  63  46  59  61  42  80  58  52  27  44  73  45\n",
            "  82  59  80  85  71  80  38  38  67  64  57  62  77  65  50  85  59  49\n",
            "  88  54  63  82  52  70  51  82  57  47  59  62  61  47  67  78  59  73\n",
            "  67  64 100  65  53  79 100  71  77  84  26  77  83  63  68  59  90  71\n",
            "  55  52  49  60  65  64  83  81  54  54  59  66  74  94  95  40  82  86\n",
            "  54  77  76  74  66  66  67  91  36  29  62  68  47  79  66  51  81  82\n",
            "  64  92  62  40  32  55  53  74  63  63  92  61  53  50  74  81  48  53\n",
            "  81  77  63  73  69  65  55  44  54  48  74  92  56  69  65  54  29  76\n",
            "  85  40  61  58  58  65  82  60  37  35  61  44  66  75  67  80  76  74\n",
            "  72  74  65  59  64  50  69  68  85  65  73  62  43  55  65  50  63  77\n",
            "  66  69  65  69  50  73  70  67  29  94  49  73  66  77  49  79  75  59\n",
            "  57  79  57  63  59  42  80  98  60  76  96  76  62  74  65  73  68  87\n",
            "  53  53  37  81  59  50  77  84  52  53  48  62  74  58  68  52  62  49\n",
            "  66  35  72  46  77  76  52  32  72  19  52  48  60  42  57  70  52  87\n",
            "  82  73  64  41  54  72  45  60  77  85  78  71  48  56  65  69  61  74\n",
            "  77  60  75  66  39  23  40  59  61  87  97  65  53  81  71  70  43  59\n",
            "  64  71  64  51  62  93  69  86  85  50  59  32  63  65  73  34  93  67\n",
            "  79  67  69  52  47  46  68  44  57  35  54  65  48  57  78  58  54  49\n",
            "  57  75  74  62  92  45  56  48 100  65  62  68  75  89  53  49  54  64\n",
            "  91   8  78  74  40  44  67  65  55  62  88  59  68  77]\n",
            "518\n"
          ]
        }
      ]
    },
    {
      "cell_type": "code",
      "source": [
        "# Creating an array for math score of males\n",
        "m_maths= df.loc[df['gender'] == 'male','math score'].values # .values to select only the values, not the indexes\n",
        "\n",
        "type(m_maths) # Checking the type of m_math_score\n",
        "\n",
        "print(m_maths) # Printing the array for final check\n",
        "\n",
        "n_m= m_maths.size # Storing the sample size for male in a variable for future use\n",
        "print(n_m) # Printing the number of samples in male maths score"
      ],
      "metadata": {
        "colab": {
          "base_uri": "https://localhost:8080/"
        },
        "id": "RBUfrcRTkHm8",
        "outputId": "2c99c401-10e0-4812-dd72-67d5705255d6"
      },
      "execution_count": 19,
      "outputs": [
        {
          "output_type": "stream",
          "name": "stdout",
          "text": [
            "[ 47  76  40  64  58  40  78  88  46  66  44  74  73  69  70  40  97  81\n",
            "  57  55  59  65  82  53  77  53  88  52  58  79  39  62  67  45  61  63\n",
            "  61  49  44  30  80  49  50  72  42  27  71  43  78  65  79  68  60  98\n",
            "  66  62  54  84  91  63  83  72  65  82  89  53  87  74  58  51  70  71\n",
            "  57  88  88  73 100  62  77  54  62  60  66  82  49  52  53  72  94  62\n",
            "  45  65  80  62  48  76  77  61  59  55  69  59  74  82  81  80  35  60\n",
            "  87  84  66  61  87  86  57  68  76  46  92  83  80  63  54  84  73  59\n",
            "  75  85  89  68  47  80  54  78  79  76  59  69  58  88  83  73  53  45\n",
            "  81  97  88  77  76  86  63  78  67  46  71  40  90  81  56  80  69  99\n",
            "  51  66  67  71  83  63  61  28  82  71  47  62  90  76  49  58  67  79\n",
            "  62  75  87  66  63  59  85  59  49  69  61  84  74  46  66  87  79  73\n",
            "  73  76  57  48  74  60  53  65  87  84  71  63  84  71  74  68  57  41\n",
            "  86  69  65  68  64  61  73  50  75  75  70  89  79  69  86  47  81  65\n",
            "  37  53  72  53  54  75  72  91  76  80  76  73  68  59  70  61  64  79\n",
            "  68  76  63  68  55  79  76  64  62  71  69  54  53  68  56  62  73  51\n",
            "  85  97  75  79  78  72  79  79  87  77  53  61  73  96  48  48  63  68\n",
            "  71  91  40  61  58  71  68  30  53  60  84  75  69  94  88  95  65  62\n",
            "  58 100 100  69  61  49  67  79  84  71  86  41  70  51  77  69  90  74\n",
            "  73  80  73  81  52  81  63  60  62  62  85  77  53  93  66  87  62  46\n",
            "  66  89  93  81  73  91  55  50  47  81  68  53  55  55  67  92  81  61\n",
            "  80  55  72  69  69  87  71  68  79  58  55  70  69  78  60  76  58  52\n",
            "  75  66  94  91  68  66  89  70  69  67  76  75  90  59  51  45  87  94\n",
            "  61  49  62  68  64  58  73  58  64  74  90  91  64  80  71  82  62  75\n",
            "  52  87  39  97  82  59  61  78  49  59  82  90  80  81  57  63  55  54\n",
            "  44  88  36  67  85  88  57  70  50 100  91  69  72  74  74  64  46  67\n",
            "  62  61  70  98  70  67  85  77  72  81  61  82  49  94  58  72  84  75\n",
            "  72  66  63  78  60  62  55  81  79  57  81  86  63  62]\n",
            "482\n"
          ]
        }
      ]
    },
    {
      "cell_type": "markdown",
      "source": [
        "## Computing the variance of thw two arrays by considering/using the standard deviation of each array. As the samples sizes are different, we have to go for pooled variance. We will do this job by first defining a function and giving the parameters of the function mean, standard deviation and pooled variance by as follow."
      ],
      "metadata": {
        "id": "2H6fr9OfmB83"
      }
    },
    {
      "cell_type": "code",
      "source": [
        "# Defining a function to compute the t and p value\n",
        "def computeTandP(arr1,arr2):\n",
        "  t,p=0,0\n",
        "  mean_f, mean_m = np.mean(arr1), np.mean(arr2)\n",
        "  s_f, s_m = np.std(arr1), np.std(arr2)\n",
        "  var = (((arr1.size-1)*(s_f**2))+((arr2.size-1)*(s_m**2)))/(arr1.size+arr2.size-2)\n",
        "  return t,p"
      ],
      "metadata": {
        "id": "8X0jr3V8k7pB"
      },
      "execution_count": 20,
      "outputs": []
    },
    {
      "cell_type": "markdown",
      "source": [
        "## Now  we run the same computeTandP function over the selected numpy arrays, fermale score and male score. Using this we can find the value of t statistics and P value.In order to do that we add lines of codes in the previous function. Here we include some terms such as:\n",
        "* Mean\n",
        "* Standard deviation\n",
        "* Sample size\n",
        "* Variance\n",
        "* Pooled standard deviation\n",
        "* Standard error\n",
        "* Degrees of freedom"
      ],
      "metadata": {
        "id": "_bQOMIp0quGx"
      }
    },
    {
      "cell_type": "code",
      "source": [
        "# Defining a function to compute the t and p value\n",
        "def computeTandP(arr1,arr2):\n",
        "  t_value,p_value = 0,0 # At first setting the t and p value as 0,0\n",
        "  mean_f, mean_m = np.mean(arr1), np.mean(arr2) # Calculating mean\n",
        "  s_f, s_m = np.std(arr1), np.std(arr2) # Calculating standard deviations\n",
        "  var = (((arr1.size-1)*(s_f**2))+((arr2.size-1)*(s_m**2)))/(arr1.size + arr2.size -2) # Calculating variances\n",
        "  pooled_std = np.sqrt(var) # Calculating pooled standard deviation\n",
        "  std_error = (pooled_std) * (np.sqrt(1/arr1.size+1/arr2.size)) # Calculating standard error\n",
        "  t_value = (mean_f - mean_m)/(std_error) # Calculating t statistics value\n",
        "  degree_freedom = arr1.size + arr2.size -2 # Calculatin degrees of freedom\n",
        "  p_value = stats.t.cdf(t_value,degree_freedom) # Calculting the p value\n",
        "  return t_value,p_value"
      ],
      "metadata": {
        "id": "r4o2aLBFrDHR"
      },
      "execution_count": 51,
      "outputs": []
    },
    {
      "cell_type": "markdown",
      "source": [
        "## Now we calculate the t and p value for the arrays fm_maths and m_maths by using the predefined function called computeTandP"
      ],
      "metadata": {
        "id": "bNR3troku8Sl"
      }
    },
    {
      "cell_type": "code",
      "source": [
        "t_value,p_value = computeTandP(fm_maths, m_maths)\n",
        "print('The T value:', t_value)\n",
        "print('The P value:', p_value)"
      ],
      "metadata": {
        "colab": {
          "base_uri": "https://localhost:8080/"
        },
        "id": "T0QULmD6vOBn",
        "outputId": "2ddf8317-0dbe-4ffd-8568-98e33e0837ca"
      },
      "execution_count": 52,
      "outputs": [
        {
          "output_type": "stream",
          "name": "stdout",
          "text": [
            "The T value: -5.388622466450282\n",
            "The P value: 4.429523497026622e-08\n"
          ]
        }
      ]
    },
    {
      "cell_type": "markdown",
      "source": [
        "## Framing the hypothesis test:\n",
        "Here we conduct a hypothesis test among the values of maths score received by females and males. Here we consider the T test and conduct the test using pooled variance.\n",
        "\n",
        "**The null hypothesis(H_0):** There is no difference between math test score of Males and Females.\n",
        "\n",
        "**The Alternate Hypothesis(H_1):** There is a significant difference between the math scores of Males and Females.\n",
        "\n",
        "We get,\n",
        "* **T value** = -5.388622466450282\n",
        "* **P value** = 4.429523497026622e-08\n",
        "\n",
        "**Conclusion:**\n",
        "Since p value is very small, less than 0.05, so we can not accept the null hypothesis, which says there is no difference between the math scores of males and females.\n",
        "\n",
        "So, we conclude that there is a signifact difference between the math scores of males and females.\n"
      ],
      "metadata": {
        "id": "5taBJ1RXzxwQ"
      }
    },
    {
      "cell_type": "markdown",
      "source": [
        "## Now we denote the outliers in the maths score of males and females and detecte them and remove then. Then again we try to calculate the T and P value to observe if there is any significant change in the result happens or not.\n",
        "## So at first we create a function called removeOutlers()"
      ],
      "metadata": {
        "id": "vO4r6kG__oaW"
      }
    },
    {
      "cell_type": "code",
      "source": [
        "# Defining a function to remove outliers\n",
        "def removeOutliers(arr):\n",
        "   q3,q1 = np.percentile(arr,[75,25]) # q3 means quartile 3 and q1 means quartile 1\n",
        "   iqr = q3 - q1 # iqr stands for inter-quartile range\n",
        "   lower = q1 - 1.5 * iqr\n",
        "   upper = q3 + 1.5 *iqr\n",
        "   arr=arr[(arr>=lower) & (arr<=upper)]\n",
        "   return arr"
      ],
      "metadata": {
        "id": "Dd-LMj7T2ZKZ"
      },
      "execution_count": 53,
      "outputs": []
    },
    {
      "cell_type": "markdown",
      "source": [
        "## Now we filter the arrays fm_maths and m_maths using the above defined removeOutliers function. To easy to access, we store them in a variable called fm_filtered and mm_filtered."
      ],
      "metadata": {
        "id": "uckwO3WZAkd-"
      }
    },
    {
      "cell_type": "code",
      "source": [
        "# Creating a outlier free maths score array for females\n",
        "fm_filtered = removeOutliers(fm_maths)\n",
        "mm_filtered = removeOutliers(m_maths)\n",
        "\n",
        "# Checking the number of samples in fm_filtered and mm_filtered\n",
        "print(fm_filtered.size) # Observe that samples size reduces\n",
        "print(mm_filtered.size) # Observe that sample size reduces"
      ],
      "metadata": {
        "colab": {
          "base_uri": "https://localhost:8080/"
        },
        "id": "JybttXZMA2U-",
        "outputId": "bdaff56a-b16d-40ca-89b4-64ae5a499b6a"
      },
      "execution_count": 56,
      "outputs": [
        {
          "output_type": "stream",
          "name": "stdout",
          "text": [
            "512\n",
            "480\n"
          ]
        }
      ]
    },
    {
      "cell_type": "markdown",
      "source": [
        "## Now we apply the computeTandP function on the newly created arrays that do not contain any outlier. It will help us to understand the hypothesis is more detail"
      ],
      "metadata": {
        "id": "L4KfUoCVBlOm"
      }
    },
    {
      "cell_type": "code",
      "source": [
        "t_value,p_value = computeTandP(fm_filtered,mm_filtered)\n",
        "print('The T value:',t_value)\n",
        "print('The P value:',p_value)\n",
        "# Observe that both the values changes very little which can be ignored.\n",
        "# Does not change the Conclusion made previously."
      ],
      "metadata": {
        "colab": {
          "base_uri": "https://localhost:8080/"
        },
        "id": "LPI6bTENBax-",
        "outputId": "bd3ce7a1-23f2-4e0a-c0a8-a4d4fe92c9e1"
      },
      "execution_count": 58,
      "outputs": [
        {
          "output_type": "stream",
          "name": "stdout",
          "text": [
            "The T value: -5.142350675301441\n",
            "The P value: 1.6347296161482055e-07\n"
          ]
        }
      ]
    }
  ]
}